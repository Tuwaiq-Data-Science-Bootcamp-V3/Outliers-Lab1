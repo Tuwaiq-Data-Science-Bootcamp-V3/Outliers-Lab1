{
 "cells": [
  {
   "cell_type": "markdown",
   "id": "timely-involvement",
   "metadata": {},
   "source": [
    "### Import your librares"
   ]
  },
  {
   "cell_type": "code",
   "execution_count": 1,
   "id": "dramatic-briefs",
   "metadata": {},
   "outputs": [],
   "source": [
    "import warnings\n",
    "warnings.filterwarnings(\"ignore\")\n",
    "import pandas as pd\n",
    "import matplotlib.pyplot as plt\n",
    "import seaborn as sns\n",
    "import numpy as np"
   ]
  },
  {
   "cell_type": "markdown",
   "id": "australian-softball",
   "metadata": {},
   "source": [
    "### Load your dataset"
   ]
  },
  {
   "cell_type": "code",
   "execution_count": 2,
   "id": "average-recipient",
   "metadata": {},
   "outputs": [
    {
     "data": {
      "text/html": [
       "<div>\n",
       "<style scoped>\n",
       "    .dataframe tbody tr th:only-of-type {\n",
       "        vertical-align: middle;\n",
       "    }\n",
       "\n",
       "    .dataframe tbody tr th {\n",
       "        vertical-align: top;\n",
       "    }\n",
       "\n",
       "    .dataframe thead th {\n",
       "        text-align: right;\n",
       "    }\n",
       "</style>\n",
       "<table border=\"1\" class=\"dataframe\">\n",
       "  <thead>\n",
       "    <tr style=\"text-align: right;\">\n",
       "      <th></th>\n",
       "      <th>DATE</th>\n",
       "      <th>PRCP</th>\n",
       "      <th>TMAX</th>\n",
       "      <th>TMIN</th>\n",
       "      <th>RAIN</th>\n",
       "    </tr>\n",
       "  </thead>\n",
       "  <tbody>\n",
       "    <tr>\n",
       "      <th>0</th>\n",
       "      <td>1948-01-01</td>\n",
       "      <td>0.47</td>\n",
       "      <td>51</td>\n",
       "      <td>42</td>\n",
       "      <td>True</td>\n",
       "    </tr>\n",
       "    <tr>\n",
       "      <th>1</th>\n",
       "      <td>1948-01-02</td>\n",
       "      <td>0.59</td>\n",
       "      <td>45</td>\n",
       "      <td>36</td>\n",
       "      <td>True</td>\n",
       "    </tr>\n",
       "    <tr>\n",
       "      <th>2</th>\n",
       "      <td>1948-01-03</td>\n",
       "      <td>0.42</td>\n",
       "      <td>45</td>\n",
       "      <td>35</td>\n",
       "      <td>True</td>\n",
       "    </tr>\n",
       "    <tr>\n",
       "      <th>3</th>\n",
       "      <td>1948-01-04</td>\n",
       "      <td>0.31</td>\n",
       "      <td>45</td>\n",
       "      <td>34</td>\n",
       "      <td>True</td>\n",
       "    </tr>\n",
       "    <tr>\n",
       "      <th>4</th>\n",
       "      <td>1948-01-05</td>\n",
       "      <td>0.17</td>\n",
       "      <td>45</td>\n",
       "      <td>32</td>\n",
       "      <td>True</td>\n",
       "    </tr>\n",
       "    <tr>\n",
       "      <th>5</th>\n",
       "      <td>1948-01-06</td>\n",
       "      <td>0.44</td>\n",
       "      <td>48</td>\n",
       "      <td>39</td>\n",
       "      <td>True</td>\n",
       "    </tr>\n",
       "    <tr>\n",
       "      <th>6</th>\n",
       "      <td>1948-01-07</td>\n",
       "      <td>0.41</td>\n",
       "      <td>50</td>\n",
       "      <td>40</td>\n",
       "      <td>True</td>\n",
       "    </tr>\n",
       "    <tr>\n",
       "      <th>7</th>\n",
       "      <td>1948-01-08</td>\n",
       "      <td>0.04</td>\n",
       "      <td>48</td>\n",
       "      <td>35</td>\n",
       "      <td>True</td>\n",
       "    </tr>\n",
       "    <tr>\n",
       "      <th>8</th>\n",
       "      <td>1948-01-09</td>\n",
       "      <td>0.12</td>\n",
       "      <td>50</td>\n",
       "      <td>31</td>\n",
       "      <td>True</td>\n",
       "    </tr>\n",
       "    <tr>\n",
       "      <th>9</th>\n",
       "      <td>1948-01-10</td>\n",
       "      <td>0.74</td>\n",
       "      <td>43</td>\n",
       "      <td>34</td>\n",
       "      <td>True</td>\n",
       "    </tr>\n",
       "    <tr>\n",
       "      <th>10</th>\n",
       "      <td>1948-01-11</td>\n",
       "      <td>0.01</td>\n",
       "      <td>42</td>\n",
       "      <td>32</td>\n",
       "      <td>True</td>\n",
       "    </tr>\n",
       "    <tr>\n",
       "      <th>11</th>\n",
       "      <td>1948-01-12</td>\n",
       "      <td>0.00</td>\n",
       "      <td>41</td>\n",
       "      <td>26</td>\n",
       "      <td>False</td>\n",
       "    </tr>\n",
       "    <tr>\n",
       "      <th>12</th>\n",
       "      <td>1948-01-13</td>\n",
       "      <td>0.00</td>\n",
       "      <td>45</td>\n",
       "      <td>29</td>\n",
       "      <td>False</td>\n",
       "    </tr>\n",
       "    <tr>\n",
       "      <th>13</th>\n",
       "      <td>1948-01-14</td>\n",
       "      <td>0.00</td>\n",
       "      <td>38</td>\n",
       "      <td>26</td>\n",
       "      <td>False</td>\n",
       "    </tr>\n",
       "    <tr>\n",
       "      <th>14</th>\n",
       "      <td>1948-01-15</td>\n",
       "      <td>0.00</td>\n",
       "      <td>34</td>\n",
       "      <td>31</td>\n",
       "      <td>False</td>\n",
       "    </tr>\n",
       "  </tbody>\n",
       "</table>\n",
       "</div>"
      ],
      "text/plain": [
       "          DATE  PRCP  TMAX  TMIN   RAIN\n",
       "0   1948-01-01  0.47    51    42   True\n",
       "1   1948-01-02  0.59    45    36   True\n",
       "2   1948-01-03  0.42    45    35   True\n",
       "3   1948-01-04  0.31    45    34   True\n",
       "4   1948-01-05  0.17    45    32   True\n",
       "5   1948-01-06  0.44    48    39   True\n",
       "6   1948-01-07  0.41    50    40   True\n",
       "7   1948-01-08  0.04    48    35   True\n",
       "8   1948-01-09  0.12    50    31   True\n",
       "9   1948-01-10  0.74    43    34   True\n",
       "10  1948-01-11  0.01    42    32   True\n",
       "11  1948-01-12  0.00    41    26  False\n",
       "12  1948-01-13  0.00    45    29  False\n",
       "13  1948-01-14  0.00    38    26  False\n",
       "14  1948-01-15  0.00    34    31  False"
      ]
     },
     "execution_count": 2,
     "metadata": {},
     "output_type": "execute_result"
    }
   ],
   "source": [
    "df= pd.read_csv('seattle_weather.csv')\n",
    "df.head(15)"
   ]
  },
  {
   "cell_type": "markdown",
   "id": "9f68b54e",
   "metadata": {},
   "source": [
    "### Handle missing data in PRCP and RAIN columns"
   ]
  },
  {
   "cell_type": "code",
   "execution_count": 3,
   "id": "b0b74801",
   "metadata": {},
   "outputs": [
    {
     "data": {
      "text/plain": [
       "PRCP    3\n",
       "RAIN    3\n",
       "dtype: int64"
      ]
     },
     "execution_count": 3,
     "metadata": {},
     "output_type": "execute_result"
    }
   ],
   "source": [
    "df[['PRCP', 'RAIN']].isnull().sum()"
   ]
  },
  {
   "cell_type": "code",
   "execution_count": 4,
   "id": "53a8c00f",
   "metadata": {},
   "outputs": [
    {
     "data": {
      "text/html": [
       "<div>\n",
       "<style scoped>\n",
       "    .dataframe tbody tr th:only-of-type {\n",
       "        vertical-align: middle;\n",
       "    }\n",
       "\n",
       "    .dataframe tbody tr th {\n",
       "        vertical-align: top;\n",
       "    }\n",
       "\n",
       "    .dataframe thead th {\n",
       "        text-align: right;\n",
       "    }\n",
       "</style>\n",
       "<table border=\"1\" class=\"dataframe\">\n",
       "  <thead>\n",
       "    <tr style=\"text-align: right;\">\n",
       "      <th></th>\n",
       "      <th>DATE</th>\n",
       "      <th>PRCP</th>\n",
       "      <th>TMAX</th>\n",
       "      <th>TMIN</th>\n",
       "      <th>RAIN</th>\n",
       "    </tr>\n",
       "  </thead>\n",
       "  <tbody>\n",
       "    <tr>\n",
       "      <th>18415</th>\n",
       "      <td>1998-06-02</td>\n",
       "      <td>NaN</td>\n",
       "      <td>72</td>\n",
       "      <td>52</td>\n",
       "      <td>NaN</td>\n",
       "    </tr>\n",
       "    <tr>\n",
       "      <th>18416</th>\n",
       "      <td>1998-06-03</td>\n",
       "      <td>NaN</td>\n",
       "      <td>66</td>\n",
       "      <td>51</td>\n",
       "      <td>NaN</td>\n",
       "    </tr>\n",
       "    <tr>\n",
       "      <th>21067</th>\n",
       "      <td>2005-09-05</td>\n",
       "      <td>NaN</td>\n",
       "      <td>70</td>\n",
       "      <td>52</td>\n",
       "      <td>NaN</td>\n",
       "    </tr>\n",
       "  </tbody>\n",
       "</table>\n",
       "</div>"
      ],
      "text/plain": [
       "             DATE  PRCP  TMAX  TMIN RAIN\n",
       "18415  1998-06-02   NaN    72    52  NaN\n",
       "18416  1998-06-03   NaN    66    51  NaN\n",
       "21067  2005-09-05   NaN    70    52  NaN"
      ]
     },
     "execution_count": 4,
     "metadata": {},
     "output_type": "execute_result"
    }
   ],
   "source": [
    "df[df.isna().any(axis=1)]"
   ]
  },
  {
   "cell_type": "code",
   "execution_count": 5,
   "id": "b6869d0c",
   "metadata": {},
   "outputs": [
    {
     "data": {
      "text/plain": [
       "0.05713603840670069"
      ]
     },
     "execution_count": 5,
     "metadata": {},
     "output_type": "execute_result"
    }
   ],
   "source": [
    "df['PRCP'].var()"
   ]
  },
  {
   "cell_type": "code",
   "execution_count": 6,
   "id": "4d101d26",
   "metadata": {},
   "outputs": [
    {
     "data": {
      "text/plain": [
       "0.24462904154362605"
      ]
     },
     "execution_count": 6,
     "metadata": {},
     "output_type": "execute_result"
    }
   ],
   "source": [
    "df['RAIN'].var()"
   ]
  },
  {
   "cell_type": "code",
   "execution_count": 7,
   "id": "d82dd8de",
   "metadata": {},
   "outputs": [],
   "source": [
    "df = df.fillna(method=\"ffill\")"
   ]
  },
  {
   "cell_type": "code",
   "execution_count": 8,
   "id": "13c3c392",
   "metadata": {},
   "outputs": [
    {
     "data": {
      "text/plain": [
       "PRCP    0\n",
       "RAIN    0\n",
       "dtype: int64"
      ]
     },
     "execution_count": 8,
     "metadata": {},
     "output_type": "execute_result"
    }
   ],
   "source": [
    "df[['PRCP', 'RAIN']].isnull().sum()"
   ]
  },
  {
   "cell_type": "code",
   "execution_count": 9,
   "id": "5bad5dba",
   "metadata": {},
   "outputs": [
    {
     "data": {
      "text/plain": [
       "0.0571306543366205"
      ]
     },
     "execution_count": 9,
     "metadata": {},
     "output_type": "execute_result"
    }
   ],
   "source": [
    "df['PRCP'].var()"
   ]
  },
  {
   "cell_type": "code",
   "execution_count": 10,
   "id": "4767f564",
   "metadata": {},
   "outputs": [
    {
     "data": {
      "text/plain": [
       "0.24462168866671707"
      ]
     },
     "execution_count": 10,
     "metadata": {},
     "output_type": "execute_result"
    }
   ],
   "source": [
    "df['RAIN'].var()"
   ]
  },
  {
   "cell_type": "markdown",
   "id": "monthly-meter",
   "metadata": {},
   "source": [
    "### Repeat the following steps for each column within outliers\n",
    "\n",
    "* Visualize the outliers\n",
    "* Detect if your data set contains any outliers\n",
    "* Identify lower & higher limit of outliers\n",
    "* Drop all outliers\n",
    "* Visualize the column after processing\n"
   ]
  },
  {
   "cell_type": "code",
   "execution_count": 11,
   "id": "enhanced-forge",
   "metadata": {
    "scrolled": false
   },
   "outputs": [
    {
     "data": {
      "image/png": "[encoded data removed]",
      "text/plain": [
       "<Figure size 640x480 with 1 Axes>"
      ]
     },
     "metadata": {},
     "output_type": "display_data"
    }
   ],
   "source": [
    "sns.boxplot(data= df);"
   ]
  },
  {
   "cell_type": "code",
   "execution_count": 12,
   "id": "professional-error",
   "metadata": {},
   "outputs": [
    {
     "data": {
      "image/png": "[encoded data removed]",
      "text/plain": [
       "<Figure size 640x480 with 1 Axes>"
      ]
     },
     "metadata": {},
     "output_type": "display_data"
    }
   ],
   "source": [
    "Q1 = np.percentile(df['PRCP'], 25, interpolation = 'midpoint')\n",
    "Q3 = np.percentile(df['PRCP'], 75, interpolation = 'midpoint')\n",
    "IQR = Q3 - Q1\n",
    "lowerbound= Q1 - 1.5*(IQR)\n",
    "higherbound= Q3 + 1.5*(IQR)\n",
    "\n",
    "df= df.drop(df[(df['PRCP'] > higherbound) | (df['PRCP'] < lowerbound )].index)\n",
    "sns.boxplot(df);"
   ]
  },
  {
   "cell_type": "code",
   "execution_count": 13,
   "id": "daily-crime",
   "metadata": {},
   "outputs": [
    {
     "data": {
      "image/png": "[encoded data removed]",
      "text/plain": [
       "<Figure size 640x480 with 1 Axes>"
      ]
     },
     "metadata": {},
     "output_type": "display_data"
    }
   ],
   "source": [
    "Q1 = np.percentile(df['TMAX'], 25, interpolation = 'midpoint')\n",
    "Q3 = np.percentile(df['TMAX'], 75, interpolation = 'midpoint')\n",
    "IQR = Q3 - Q1\n",
    "lowerbound= Q1 - 1.5*(IQR)\n",
    "higherbound= Q3 + 1.5*(IQR)\n",
    "\n",
    "df= df.drop(df[(df['TMAX'] > higherbound) | (df['TMAX'] < lowerbound )].index)\n",
    "sns.boxplot(df);"
   ]
  },
  {
   "cell_type": "code",
   "execution_count": 14,
   "id": "43147b76",
   "metadata": {},
   "outputs": [
    {
     "data": {
      "image/png": "[encoded data removed]",
      "text/plain": [
       "<Figure size 640x480 with 1 Axes>"
      ]
     },
     "metadata": {},
     "output_type": "display_data"
    }
   ],
   "source": [
    "Q1 = np.percentile(df['TMIN'], 25, interpolation = 'midpoint')\n",
    "Q3 = np.percentile(df['TMIN'], 75, interpolation = 'midpoint')\n",
    "IQR = Q3 - Q1\n",
    "lowerbound= Q1 - 1.5*(IQR)\n",
    "higherbound= Q3 + 1.5*(IQR)\n",
    "\n",
    "df= df.drop(df[(df['TMIN'] > higherbound) | (df['TMIN'] < lowerbound )].index)\n",
    "sns.boxplot(df);"
   ]
  },
  {
   "cell_type": "code",
   "execution_count": null,
   "id": "66589884",
   "metadata": {},
   "outputs": [],
   "source": []
  },
  {
   "cell_type": "code",
   "execution_count": null,
   "id": "010b04a8",
   "metadata": {},
   "outputs": [],
   "source": []
  }
 ],
 "metadata": {
  "kernelspec": {
   "display_name": "Python 3 (ipykernel)",
   "language": "python",
   "name": "python3"
  },
  "language_info": {
   "codemirror_mode": {
    "name": "ipython",
    "version": 3
   },
   "file_extension": ".py",
   "mimetype": "text/x-python",
   "name": "python",
   "nbconvert_exporter": "python",
   "pygments_lexer": "ipython3",
   "version": "3.10.9"
  }
 },
 "nbformat": 4,
 "nbformat_minor": 5
}
