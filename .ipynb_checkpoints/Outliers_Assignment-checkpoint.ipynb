{
 "cells": [
  {
   "cell_type": "markdown",
   "id": "timely-involvement",
   "metadata": {},
   "source": [
    "### Import your librares"
   ]
  },
  {
   "cell_type": "code",
   "execution_count": 136,
   "id": "dramatic-briefs",
   "metadata": {},
   "outputs": [],
   "source": [
    "import numpy as np\n",
    "import pandas as pd\n",
    "import matplotlib.pyplot as plt \n",
    "import seaborn as sns"
   ]
  },
  {
   "cell_type": "markdown",
   "id": "australian-softball",
   "metadata": {},
   "source": [
    "### Load your dataset"
   ]
  },
  {
   "cell_type": "code",
   "execution_count": 137,
   "id": "average-recipient",
   "metadata": {},
   "outputs": [
    {
     "data": {
      "text/html": [
       "<div>\n",
       "<style scoped>\n",
       "    .dataframe tbody tr th:only-of-type {\n",
       "        vertical-align: middle;\n",
       "    }\n",
       "\n",
       "    .dataframe tbody tr th {\n",
       "        vertical-align: top;\n",
       "    }\n",
       "\n",
       "    .dataframe thead th {\n",
       "        text-align: right;\n",
       "    }\n",
       "</style>\n",
       "<table border=\"1\" class=\"dataframe\">\n",
       "  <thead>\n",
       "    <tr style=\"text-align: right;\">\n",
       "      <th></th>\n",
       "      <th>DATE</th>\n",
       "      <th>PRCP</th>\n",
       "      <th>TMAX</th>\n",
       "      <th>TMIN</th>\n",
       "      <th>RAIN</th>\n",
       "    </tr>\n",
       "  </thead>\n",
       "  <tbody>\n",
       "    <tr>\n",
       "      <th>0</th>\n",
       "      <td>1948-01-01</td>\n",
       "      <td>0.47</td>\n",
       "      <td>51</td>\n",
       "      <td>42</td>\n",
       "      <td>True</td>\n",
       "    </tr>\n",
       "    <tr>\n",
       "      <th>1</th>\n",
       "      <td>1948-01-02</td>\n",
       "      <td>0.59</td>\n",
       "      <td>45</td>\n",
       "      <td>36</td>\n",
       "      <td>True</td>\n",
       "    </tr>\n",
       "    <tr>\n",
       "      <th>2</th>\n",
       "      <td>1948-01-03</td>\n",
       "      <td>0.42</td>\n",
       "      <td>45</td>\n",
       "      <td>35</td>\n",
       "      <td>True</td>\n",
       "    </tr>\n",
       "    <tr>\n",
       "      <th>3</th>\n",
       "      <td>1948-01-04</td>\n",
       "      <td>0.31</td>\n",
       "      <td>45</td>\n",
       "      <td>34</td>\n",
       "      <td>True</td>\n",
       "    </tr>\n",
       "    <tr>\n",
       "      <th>4</th>\n",
       "      <td>1948-01-05</td>\n",
       "      <td>0.17</td>\n",
       "      <td>45</td>\n",
       "      <td>32</td>\n",
       "      <td>True</td>\n",
       "    </tr>\n",
       "    <tr>\n",
       "      <th>...</th>\n",
       "      <td>...</td>\n",
       "      <td>...</td>\n",
       "      <td>...</td>\n",
       "      <td>...</td>\n",
       "      <td>...</td>\n",
       "    </tr>\n",
       "    <tr>\n",
       "      <th>25546</th>\n",
       "      <td>2017-12-10</td>\n",
       "      <td>0.00</td>\n",
       "      <td>49</td>\n",
       "      <td>34</td>\n",
       "      <td>False</td>\n",
       "    </tr>\n",
       "    <tr>\n",
       "      <th>25547</th>\n",
       "      <td>2017-12-11</td>\n",
       "      <td>0.00</td>\n",
       "      <td>49</td>\n",
       "      <td>29</td>\n",
       "      <td>False</td>\n",
       "    </tr>\n",
       "    <tr>\n",
       "      <th>25548</th>\n",
       "      <td>2017-12-12</td>\n",
       "      <td>0.00</td>\n",
       "      <td>46</td>\n",
       "      <td>32</td>\n",
       "      <td>False</td>\n",
       "    </tr>\n",
       "    <tr>\n",
       "      <th>25549</th>\n",
       "      <td>2017-12-13</td>\n",
       "      <td>0.00</td>\n",
       "      <td>48</td>\n",
       "      <td>34</td>\n",
       "      <td>False</td>\n",
       "    </tr>\n",
       "    <tr>\n",
       "      <th>25550</th>\n",
       "      <td>2017-12-14</td>\n",
       "      <td>0.00</td>\n",
       "      <td>50</td>\n",
       "      <td>36</td>\n",
       "      <td>False</td>\n",
       "    </tr>\n",
       "  </tbody>\n",
       "</table>\n",
       "<p>25551 rows × 5 columns</p>\n",
       "</div>"
      ],
      "text/plain": [
       "             DATE  PRCP  TMAX  TMIN   RAIN\n",
       "0      1948-01-01  0.47    51    42   True\n",
       "1      1948-01-02  0.59    45    36   True\n",
       "2      1948-01-03  0.42    45    35   True\n",
       "3      1948-01-04  0.31    45    34   True\n",
       "4      1948-01-05  0.17    45    32   True\n",
       "...           ...   ...   ...   ...    ...\n",
       "25546  2017-12-10  0.00    49    34  False\n",
       "25547  2017-12-11  0.00    49    29  False\n",
       "25548  2017-12-12  0.00    46    32  False\n",
       "25549  2017-12-13  0.00    48    34  False\n",
       "25550  2017-12-14  0.00    50    36  False\n",
       "\n",
       "[25551 rows x 5 columns]"
      ]
     },
     "execution_count": 137,
     "metadata": {},
     "output_type": "execute_result"
    }
   ],
   "source": [
    "S_w= pd.read_csv(\"seattle_weather.csv\")\n",
    "S_w"
   ]
  },
  {
   "cell_type": "markdown",
   "id": "9f68b54e",
   "metadata": {},
   "source": [
    "### Handle missing data in PRCP and RAIN columns"
   ]
  },
  {
   "cell_type": "code",
   "execution_count": 138,
   "id": "0801bd07",
   "metadata": {},
   "outputs": [
    {
     "data": {
      "text/plain": [
       "Index(['PRCP', 'RAIN'], dtype='object')"
      ]
     },
     "execution_count": 138,
     "metadata": {},
     "output_type": "execute_result"
    }
   ],
   "source": [
    "S_w.columns[S_w.isnull().any()]"
   ]
  },
  {
   "cell_type": "code",
   "execution_count": 139,
   "id": "d9f38b0a",
   "metadata": {},
   "outputs": [
    {
     "data": {
      "text/html": [
       "<div>\n",
       "<style scoped>\n",
       "    .dataframe tbody tr th:only-of-type {\n",
       "        vertical-align: middle;\n",
       "    }\n",
       "\n",
       "    .dataframe tbody tr th {\n",
       "        vertical-align: top;\n",
       "    }\n",
       "\n",
       "    .dataframe thead th {\n",
       "        text-align: right;\n",
       "    }\n",
       "</style>\n",
       "<table border=\"1\" class=\"dataframe\">\n",
       "  <thead>\n",
       "    <tr style=\"text-align: right;\">\n",
       "      <th></th>\n",
       "      <th>DATE</th>\n",
       "      <th>PRCP</th>\n",
       "      <th>TMAX</th>\n",
       "      <th>TMIN</th>\n",
       "      <th>RAIN</th>\n",
       "    </tr>\n",
       "  </thead>\n",
       "  <tbody>\n",
       "    <tr>\n",
       "      <th>18415</th>\n",
       "      <td>1998-06-02</td>\n",
       "      <td>NaN</td>\n",
       "      <td>72</td>\n",
       "      <td>52</td>\n",
       "      <td>NaN</td>\n",
       "    </tr>\n",
       "    <tr>\n",
       "      <th>18416</th>\n",
       "      <td>1998-06-03</td>\n",
       "      <td>NaN</td>\n",
       "      <td>66</td>\n",
       "      <td>51</td>\n",
       "      <td>NaN</td>\n",
       "    </tr>\n",
       "    <tr>\n",
       "      <th>21067</th>\n",
       "      <td>2005-09-05</td>\n",
       "      <td>NaN</td>\n",
       "      <td>70</td>\n",
       "      <td>52</td>\n",
       "      <td>NaN</td>\n",
       "    </tr>\n",
       "  </tbody>\n",
       "</table>\n",
       "</div>"
      ],
      "text/plain": [
       "             DATE  PRCP  TMAX  TMIN RAIN\n",
       "18415  1998-06-02   NaN    72    52  NaN\n",
       "18416  1998-06-03   NaN    66    51  NaN\n",
       "21067  2005-09-05   NaN    70    52  NaN"
      ]
     },
     "execution_count": 139,
     "metadata": {},
     "output_type": "execute_result"
    }
   ],
   "source": [
    "S_w[S_w['PRCP'].isnull()]"
   ]
  },
  {
   "cell_type": "code",
   "execution_count": 140,
   "id": "f9d61315",
   "metadata": {},
   "outputs": [],
   "source": [
    "#df1 = pd.DataFrame(S_w, columns = ['PRCP','RAIN'])\n",
    " "
   ]
  },
  {
   "cell_type": "code",
   "execution_count": 141,
   "id": "3807c89b",
   "metadata": {},
   "outputs": [],
   "source": [
    "S_w['PRCP'].fillna(S_w['PRCP'].mode()[0], inplace=True)"
   ]
  },
  {
   "cell_type": "code",
   "execution_count": 142,
   "id": "1f42ffcb",
   "metadata": {},
   "outputs": [
    {
     "data": {
      "text/html": [
       "<div>\n",
       "<style scoped>\n",
       "    .dataframe tbody tr th:only-of-type {\n",
       "        vertical-align: middle;\n",
       "    }\n",
       "\n",
       "    .dataframe tbody tr th {\n",
       "        vertical-align: top;\n",
       "    }\n",
       "\n",
       "    .dataframe thead th {\n",
       "        text-align: right;\n",
       "    }\n",
       "</style>\n",
       "<table border=\"1\" class=\"dataframe\">\n",
       "  <thead>\n",
       "    <tr style=\"text-align: right;\">\n",
       "      <th></th>\n",
       "      <th>DATE</th>\n",
       "      <th>PRCP</th>\n",
       "      <th>TMAX</th>\n",
       "      <th>TMIN</th>\n",
       "      <th>RAIN</th>\n",
       "    </tr>\n",
       "  </thead>\n",
       "  <tbody>\n",
       "    <tr>\n",
       "      <th>18415</th>\n",
       "      <td>1998-06-02</td>\n",
       "      <td>0.0</td>\n",
       "      <td>72</td>\n",
       "      <td>52</td>\n",
       "      <td>NaN</td>\n",
       "    </tr>\n",
       "    <tr>\n",
       "      <th>18416</th>\n",
       "      <td>1998-06-03</td>\n",
       "      <td>0.0</td>\n",
       "      <td>66</td>\n",
       "      <td>51</td>\n",
       "      <td>NaN</td>\n",
       "    </tr>\n",
       "    <tr>\n",
       "      <th>21067</th>\n",
       "      <td>2005-09-05</td>\n",
       "      <td>0.0</td>\n",
       "      <td>70</td>\n",
       "      <td>52</td>\n",
       "      <td>NaN</td>\n",
       "    </tr>\n",
       "  </tbody>\n",
       "</table>\n",
       "</div>"
      ],
      "text/plain": [
       "             DATE  PRCP  TMAX  TMIN RAIN\n",
       "18415  1998-06-02   0.0    72    52  NaN\n",
       "18416  1998-06-03   0.0    66    51  NaN\n",
       "21067  2005-09-05   0.0    70    52  NaN"
      ]
     },
     "execution_count": 142,
     "metadata": {},
     "output_type": "execute_result"
    }
   ],
   "source": [
    "S_w[S_w['RAIN'].isnull()]"
   ]
  },
  {
   "cell_type": "code",
   "execution_count": 143,
   "id": "309f03ca",
   "metadata": {},
   "outputs": [],
   "source": [
    "S_w['RAIN'].fillna(S_w['RAIN'].mode()[0], inplace=True)"
   ]
  },
  {
   "cell_type": "code",
   "execution_count": 144,
   "id": "d0ca8331",
   "metadata": {},
   "outputs": [
    {
     "data": {
      "text/plain": [
       "DATE    1998-06-02\n",
       "PRCP           0.0\n",
       "TMAX            72\n",
       "TMIN            52\n",
       "RAIN         False\n",
       "Name: 18415, dtype: object"
      ]
     },
     "metadata": {},
     "output_type": "display_data"
    }
   ],
   "source": [
    "display(S_w.iloc[18415])"
   ]
  },
  {
   "cell_type": "code",
   "execution_count": 145,
   "id": "9eefd89e",
   "metadata": {},
   "outputs": [
    {
     "data": {
      "text/html": [
       "<div>\n",
       "<style scoped>\n",
       "    .dataframe tbody tr th:only-of-type {\n",
       "        vertical-align: middle;\n",
       "    }\n",
       "\n",
       "    .dataframe tbody tr th {\n",
       "        vertical-align: top;\n",
       "    }\n",
       "\n",
       "    .dataframe thead th {\n",
       "        text-align: right;\n",
       "    }\n",
       "</style>\n",
       "<table border=\"1\" class=\"dataframe\">\n",
       "  <thead>\n",
       "    <tr style=\"text-align: right;\">\n",
       "      <th></th>\n",
       "      <th>PRCP</th>\n",
       "      <th>TMAX</th>\n",
       "      <th>TMIN</th>\n",
       "    </tr>\n",
       "  </thead>\n",
       "  <tbody>\n",
       "    <tr>\n",
       "      <th>count</th>\n",
       "      <td>25551.000000</td>\n",
       "      <td>25551.000000</td>\n",
       "      <td>25551.000000</td>\n",
       "    </tr>\n",
       "    <tr>\n",
       "      <th>mean</th>\n",
       "      <td>0.106209</td>\n",
       "      <td>59.544206</td>\n",
       "      <td>44.514226</td>\n",
       "    </tr>\n",
       "    <tr>\n",
       "      <th>std</th>\n",
       "      <td>0.239020</td>\n",
       "      <td>12.772984</td>\n",
       "      <td>8.892836</td>\n",
       "    </tr>\n",
       "    <tr>\n",
       "      <th>min</th>\n",
       "      <td>0.000000</td>\n",
       "      <td>4.000000</td>\n",
       "      <td>0.000000</td>\n",
       "    </tr>\n",
       "    <tr>\n",
       "      <th>25%</th>\n",
       "      <td>0.000000</td>\n",
       "      <td>50.000000</td>\n",
       "      <td>38.000000</td>\n",
       "    </tr>\n",
       "    <tr>\n",
       "      <th>50%</th>\n",
       "      <td>0.000000</td>\n",
       "      <td>58.000000</td>\n",
       "      <td>45.000000</td>\n",
       "    </tr>\n",
       "    <tr>\n",
       "      <th>75%</th>\n",
       "      <td>0.100000</td>\n",
       "      <td>69.000000</td>\n",
       "      <td>52.000000</td>\n",
       "    </tr>\n",
       "    <tr>\n",
       "      <th>max</th>\n",
       "      <td>5.020000</td>\n",
       "      <td>103.000000</td>\n",
       "      <td>71.000000</td>\n",
       "    </tr>\n",
       "  </tbody>\n",
       "</table>\n",
       "</div>"
      ],
      "text/plain": [
       "               PRCP          TMAX          TMIN\n",
       "count  25551.000000  25551.000000  25551.000000\n",
       "mean       0.106209     59.544206     44.514226\n",
       "std        0.239020     12.772984      8.892836\n",
       "min        0.000000      4.000000      0.000000\n",
       "25%        0.000000     50.000000     38.000000\n",
       "50%        0.000000     58.000000     45.000000\n",
       "75%        0.100000     69.000000     52.000000\n",
       "max        5.020000    103.000000     71.000000"
      ]
     },
     "execution_count": 145,
     "metadata": {},
     "output_type": "execute_result"
    }
   ],
   "source": [
    "S_w.describe()"
   ]
  },
  {
   "cell_type": "markdown",
   "id": "monthly-meter",
   "metadata": {},
   "source": [
    "### Repeat the following steps for each column within outliers\n",
    "\n",
    "* Visualize the outliers\n",
    "* Detect if your data set contains any outliers\n",
    "* Identify lower & higher limit of outliers\n",
    "* Drop all outliers\n",
    "* Visualize the column after processing\n"
   ]
  },
  {
   "cell_type": "code",
   "execution_count": 146,
   "id": "enhanced-forge",
   "metadata": {},
   "outputs": [
    {
     "data": {
      "image/png": "[encoded data removed]",
      "text/plain": [
       "<Figure size 640x480 with 1 Axes>"
      ]
     },
     "metadata": {},
     "output_type": "display_data"
    }
   ],
   "source": [
    "sns.boxplot(data=S_w)\n",
    "plt.show()"
   ]
  },
  {
   "cell_type": "code",
   "execution_count": 147,
   "id": "professional-error",
   "metadata": {},
   "outputs": [
    {
     "name": "stdout",
     "output_type": "stream",
     "text": [
      "50.0\n",
      "69.0\n"
     ]
    }
   ],
   "source": [
    "Q1_Mx= S_w[\"TMAX\"].quantile(q=0.25)\n",
    "print(Q1_Mx)\n",
    "Q3_Mx= S_w[\"TMAX\"].quantile(q=0.75)\n",
    "print(Q3_Mx)"
   ]
  },
  {
   "cell_type": "code",
   "execution_count": 148,
   "id": "bb854963",
   "metadata": {},
   "outputs": [
    {
     "data": {
      "text/plain": [
       "19.0"
      ]
     },
     "execution_count": 148,
     "metadata": {},
     "output_type": "execute_result"
    }
   ],
   "source": [
    "iqr_MX=Q3_Mx - Q1_Mx\n",
    "iqr_MX"
   ]
  },
  {
   "cell_type": "code",
   "execution_count": 149,
   "id": "1dbb9701",
   "metadata": {},
   "outputs": [
    {
     "name": "stdout",
     "output_type": "stream",
     "text": [
      "Upper limit: 97.5\n"
     ]
    }
   ],
   "source": [
    "up_Mx=Q3_Mx+(1.5*iqr_MX)\n",
    "up_Mx\n",
    "\n",
    "print(\"Upper limit:\", up_Mx)"
   ]
  },
  {
   "cell_type": "code",
   "execution_count": 150,
   "id": "0a3f6417",
   "metadata": {},
   "outputs": [
    {
     "name": "stdout",
     "output_type": "stream",
     "text": [
      "Lower limit: 21.5\n"
     ]
    }
   ],
   "source": [
    "lo_Mx=Q1_Mx-(1.5*iqr_MX)\n",
    "\n",
    "print(\"Lower limit:\", lo_Mx)\n"
   ]
  },
  {
   "cell_type": "code",
   "execution_count": 151,
   "id": "a66b246d",
   "metadata": {},
   "outputs": [
    {
     "name": "stdout",
     "output_type": "stream",
     "text": [
      "38.0\n",
      "52.0\n"
     ]
    }
   ],
   "source": [
    "Q1_Mn= S_w[\"TMIN\"].quantile(q=0.25)\n",
    "print(Q1_Mn)\n",
    "\n",
    "Q3_Mn= S_w[\"TMIN\"].quantile(q=0.75)\n",
    "print(Q3_Mn)"
   ]
  },
  {
   "cell_type": "code",
   "execution_count": 152,
   "id": "6bea240d",
   "metadata": {},
   "outputs": [
    {
     "data": {
      "text/plain": [
       "14.0"
      ]
     },
     "execution_count": 152,
     "metadata": {},
     "output_type": "execute_result"
    }
   ],
   "source": [
    "iqr_Mn=Q3_Mn - Q1_Mn\n",
    "iqr_Mn"
   ]
  },
  {
   "cell_type": "code",
   "execution_count": 153,
   "id": "daily-crime",
   "metadata": {},
   "outputs": [
    {
     "name": "stdout",
     "output_type": "stream",
     "text": [
      "Upper limit: 73.0\n"
     ]
    }
   ],
   "source": [
    "up_Mn=Q3_Mn+(1.5*iqr_Mn)\n",
    "up_Mn\n",
    "\n",
    "print(\"Upper limit:\", up_Mn)"
   ]
  },
  {
   "cell_type": "code",
   "execution_count": 154,
   "id": "13086a56",
   "metadata": {},
   "outputs": [
    {
     "name": "stdout",
     "output_type": "stream",
     "text": [
      "Lower limit: 17.0\n"
     ]
    }
   ],
   "source": [
    "lo_Mn=Q1_Mn-(1.5*iqr_Mn)\n",
    "lo_Mn\n",
    "\n",
    "print(\"Lower limit:\", lo_Mn)\n"
   ]
  },
  {
   "cell_type": "code",
   "execution_count": 166,
   "id": "884a3eb9",
   "metadata": {},
   "outputs": [
    {
     "data": {
      "text/plain": [
       "<Axes: >"
      ]
     },
     "execution_count": 166,
     "metadata": {},
     "output_type": "execute_result"
    },
    {
     "data": {
      "image/png": "[encoded data removed]",
      "text/plain": [
       "<Figure size 640x480 with 1 Axes>"
      ]
     },
     "metadata": {},
     "output_type": "display_data"
    }
   ],
   "source": [
    "sns.boxplot( data=S_w , showfliers=False)"
   ]
  }
 ],
 "metadata": {
  "kernelspec": {
   "display_name": "Python 3 (ipykernel)",
   "language": "python",
   "name": "python3"
  },
  "language_info": {
   "codemirror_mode": {
    "name": "ipython",
    "version": 3
   },
   "file_extension": ".py",
   "mimetype": "text/x-python",
   "name": "python",
   "nbconvert_exporter": "python",
   "pygments_lexer": "ipython3",
   "version": "3.10.9"
  }
 },
 "nbformat": 4,
 "nbformat_minor": 5
}
