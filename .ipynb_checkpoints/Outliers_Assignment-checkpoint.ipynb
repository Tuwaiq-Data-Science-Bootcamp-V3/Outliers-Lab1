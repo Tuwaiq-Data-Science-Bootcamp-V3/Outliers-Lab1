{
 "cells": [
  {
   "cell_type": "markdown",
   "id": "timely-involvement",
   "metadata": {},
   "source": [
    "### Import your librares"
   ]
  },
  {
   "cell_type": "code",
   "execution_count": 1,
   "id": "dramatic-briefs",
   "metadata": {},
   "outputs": [],
   "source": [
    "import pandas as pd\n",
    "import matplotlib.pyplot as plt\n",
    "import seaborn as sns\n",
    "import numpy as np"
   ]
  },
  {
   "cell_type": "markdown",
   "id": "australian-softball",
   "metadata": {},
   "source": [
    "### Load your dataset"
   ]
  },
  {
   "cell_type": "code",
   "execution_count": 2,
   "id": "average-recipient",
   "metadata": {},
   "outputs": [
    {
     "data": {
      "text/html": [
       "<div>\n",
       "<style scoped>\n",
       "    .dataframe tbody tr th:only-of-type {\n",
       "        vertical-align: middle;\n",
       "    }\n",
       "\n",
       "    .dataframe tbody tr th {\n",
       "        vertical-align: top;\n",
       "    }\n",
       "\n",
       "    .dataframe thead th {\n",
       "        text-align: right;\n",
       "    }\n",
       "</style>\n",
       "<table border=\"1\" class=\"dataframe\">\n",
       "  <thead>\n",
       "    <tr style=\"text-align: right;\">\n",
       "      <th></th>\n",
       "      <th>DATE</th>\n",
       "      <th>PRCP</th>\n",
       "      <th>TMAX</th>\n",
       "      <th>TMIN</th>\n",
       "      <th>RAIN</th>\n",
       "    </tr>\n",
       "  </thead>\n",
       "  <tbody>\n",
       "    <tr>\n",
       "      <th>0</th>\n",
       "      <td>1948-01-01</td>\n",
       "      <td>0.47</td>\n",
       "      <td>51</td>\n",
       "      <td>42</td>\n",
       "      <td>True</td>\n",
       "    </tr>\n",
       "    <tr>\n",
       "      <th>1</th>\n",
       "      <td>1948-01-02</td>\n",
       "      <td>0.59</td>\n",
       "      <td>45</td>\n",
       "      <td>36</td>\n",
       "      <td>True</td>\n",
       "    </tr>\n",
       "    <tr>\n",
       "      <th>2</th>\n",
       "      <td>1948-01-03</td>\n",
       "      <td>0.42</td>\n",
       "      <td>45</td>\n",
       "      <td>35</td>\n",
       "      <td>True</td>\n",
       "    </tr>\n",
       "    <tr>\n",
       "      <th>3</th>\n",
       "      <td>1948-01-04</td>\n",
       "      <td>0.31</td>\n",
       "      <td>45</td>\n",
       "      <td>34</td>\n",
       "      <td>True</td>\n",
       "    </tr>\n",
       "    <tr>\n",
       "      <th>4</th>\n",
       "      <td>1948-01-05</td>\n",
       "      <td>0.17</td>\n",
       "      <td>45</td>\n",
       "      <td>32</td>\n",
       "      <td>True</td>\n",
       "    </tr>\n",
       "  </tbody>\n",
       "</table>\n",
       "</div>"
      ],
      "text/plain": [
       "         DATE  PRCP  TMAX  TMIN  RAIN\n",
       "0  1948-01-01  0.47    51    42  True\n",
       "1  1948-01-02  0.59    45    36  True\n",
       "2  1948-01-03  0.42    45    35  True\n",
       "3  1948-01-04  0.31    45    34  True\n",
       "4  1948-01-05  0.17    45    32  True"
      ]
     },
     "execution_count": 2,
     "metadata": {},
     "output_type": "execute_result"
    }
   ],
   "source": [
    "#Read dataset\n",
    "df = pd.read_csv('seattle_weather.csv')\n",
    "df.head()"
   ]
  },
  {
   "cell_type": "code",
   "execution_count": 3,
   "id": "673a6d1f",
   "metadata": {},
   "outputs": [
    {
     "data": {
      "text/plain": [
       "(25551, 5)"
      ]
     },
     "execution_count": 3,
     "metadata": {},
     "output_type": "execute_result"
    }
   ],
   "source": [
    "df.shape"
   ]
  },
  {
   "cell_type": "markdown",
   "id": "9f68b54e",
   "metadata": {},
   "source": [
    "### Handle missing data in PRCP and RAIN columns"
   ]
  },
  {
   "cell_type": "code",
   "execution_count": 4,
   "id": "0801bd07",
   "metadata": {},
   "outputs": [
    {
     "data": {
      "text/plain": [
       "DATE    0\n",
       "PRCP    3\n",
       "TMAX    0\n",
       "TMIN    0\n",
       "RAIN    3\n",
       "dtype: int64"
      ]
     },
     "execution_count": 4,
     "metadata": {},
     "output_type": "execute_result"
    }
   ],
   "source": [
    "# check missing values in each column\n",
    "df.isna().sum() "
   ]
  },
  {
   "cell_type": "code",
   "execution_count": 5,
   "id": "4bf922b9",
   "metadata": {},
   "outputs": [
    {
     "data": {
      "text/html": [
       "<div>\n",
       "<style scoped>\n",
       "    .dataframe tbody tr th:only-of-type {\n",
       "        vertical-align: middle;\n",
       "    }\n",
       "\n",
       "    .dataframe tbody tr th {\n",
       "        vertical-align: top;\n",
       "    }\n",
       "\n",
       "    .dataframe thead th {\n",
       "        text-align: right;\n",
       "    }\n",
       "</style>\n",
       "<table border=\"1\" class=\"dataframe\">\n",
       "  <thead>\n",
       "    <tr style=\"text-align: right;\">\n",
       "      <th></th>\n",
       "      <th>DATE</th>\n",
       "      <th>PRCP</th>\n",
       "      <th>TMAX</th>\n",
       "      <th>TMIN</th>\n",
       "      <th>RAIN</th>\n",
       "    </tr>\n",
       "  </thead>\n",
       "  <tbody>\n",
       "    <tr>\n",
       "      <th>18415</th>\n",
       "      <td>1998-06-02</td>\n",
       "      <td>NaN</td>\n",
       "      <td>72</td>\n",
       "      <td>52</td>\n",
       "      <td>NaN</td>\n",
       "    </tr>\n",
       "    <tr>\n",
       "      <th>18416</th>\n",
       "      <td>1998-06-03</td>\n",
       "      <td>NaN</td>\n",
       "      <td>66</td>\n",
       "      <td>51</td>\n",
       "      <td>NaN</td>\n",
       "    </tr>\n",
       "    <tr>\n",
       "      <th>21067</th>\n",
       "      <td>2005-09-05</td>\n",
       "      <td>NaN</td>\n",
       "      <td>70</td>\n",
       "      <td>52</td>\n",
       "      <td>NaN</td>\n",
       "    </tr>\n",
       "  </tbody>\n",
       "</table>\n",
       "</div>"
      ],
      "text/plain": [
       "             DATE  PRCP  TMAX  TMIN RAIN\n",
       "18415  1998-06-02   NaN    72    52  NaN\n",
       "18416  1998-06-03   NaN    66    51  NaN\n",
       "21067  2005-09-05   NaN    70    52  NaN"
      ]
     },
     "execution_count": 5,
     "metadata": {},
     "output_type": "execute_result"
    }
   ],
   "source": [
    "#print rows that contain missing data in PRCP column\n",
    "missingPRCPRows = df[df['PRCP'].isnull()]\n",
    "missingPRCPRows"
   ]
  },
  {
   "cell_type": "code",
   "execution_count": 6,
   "id": "6ae2f20a",
   "metadata": {
    "scrolled": true
   },
   "outputs": [
    {
     "data": {
      "text/html": [
       "<div>\n",
       "<style scoped>\n",
       "    .dataframe tbody tr th:only-of-type {\n",
       "        vertical-align: middle;\n",
       "    }\n",
       "\n",
       "    .dataframe tbody tr th {\n",
       "        vertical-align: top;\n",
       "    }\n",
       "\n",
       "    .dataframe thead th {\n",
       "        text-align: right;\n",
       "    }\n",
       "</style>\n",
       "<table border=\"1\" class=\"dataframe\">\n",
       "  <thead>\n",
       "    <tr style=\"text-align: right;\">\n",
       "      <th></th>\n",
       "      <th>DATE</th>\n",
       "      <th>PRCP</th>\n",
       "      <th>TMAX</th>\n",
       "      <th>TMIN</th>\n",
       "      <th>RAIN</th>\n",
       "    </tr>\n",
       "  </thead>\n",
       "  <tbody>\n",
       "    <tr>\n",
       "      <th>18415</th>\n",
       "      <td>1998-06-02</td>\n",
       "      <td>NaN</td>\n",
       "      <td>72</td>\n",
       "      <td>52</td>\n",
       "      <td>NaN</td>\n",
       "    </tr>\n",
       "    <tr>\n",
       "      <th>18416</th>\n",
       "      <td>1998-06-03</td>\n",
       "      <td>NaN</td>\n",
       "      <td>66</td>\n",
       "      <td>51</td>\n",
       "      <td>NaN</td>\n",
       "    </tr>\n",
       "    <tr>\n",
       "      <th>21067</th>\n",
       "      <td>2005-09-05</td>\n",
       "      <td>NaN</td>\n",
       "      <td>70</td>\n",
       "      <td>52</td>\n",
       "      <td>NaN</td>\n",
       "    </tr>\n",
       "  </tbody>\n",
       "</table>\n",
       "</div>"
      ],
      "text/plain": [
       "             DATE  PRCP  TMAX  TMIN RAIN\n",
       "18415  1998-06-02   NaN    72    52  NaN\n",
       "18416  1998-06-03   NaN    66    51  NaN\n",
       "21067  2005-09-05   NaN    70    52  NaN"
      ]
     },
     "execution_count": 6,
     "metadata": {},
     "output_type": "execute_result"
    }
   ],
   "source": [
    "#print rows that contain missing data in RAIN column\n",
    "missingRAINRows = df[df['RAIN'].isnull()]\n",
    "missingRAINRows"
   ]
  },
  {
   "cell_type": "markdown",
   "id": "14304dd7",
   "metadata": {},
   "source": [
    "# Handling with missing values in PRCP column"
   ]
  },
  {
   "cell_type": "code",
   "execution_count": 7,
   "id": "9f9dae42",
   "metadata": {},
   "outputs": [
    {
     "data": {
      "text/plain": [
       "0.05713603840671194"
      ]
     },
     "execution_count": 7,
     "metadata": {},
     "output_type": "execute_result"
    }
   ],
   "source": [
    "# Calculate variance for PRCP column\n",
    "variance = df['PRCP'].var()\n",
    "variance"
   ]
  },
  {
   "cell_type": "code",
   "execution_count": 8,
   "id": "43fd2717",
   "metadata": {},
   "outputs": [
    {
     "data": {
      "image/png": "[encoded data removed]",
      "text/plain": [
       "<Figure size 640x480 with 1 Axes>"
      ]
     },
     "metadata": {},
     "output_type": "display_data"
    }
   ],
   "source": [
    "# print distribution of PRCP column\n",
    "df.PRCP.plot(kind=\"hist\", bins=20, title=\"PRCP Distribution\");"
   ]
  },
  {
   "cell_type": "code",
   "execution_count": 9,
   "id": "d6ff76ed",
   "metadata": {},
   "outputs": [],
   "source": [
    "# # var = 0.05713065433662097\n",
    "# meanPRCP = round(df['PRCP'].mean())\n",
    "# df['PRCP'].fillna(meanPRCP, inplace=True)"
   ]
  },
  {
   "cell_type": "code",
   "execution_count": 10,
   "id": "458f63e8",
   "metadata": {},
   "outputs": [],
   "source": [
    "# variance = df['PRCP'].var()\n",
    "# variance"
   ]
  },
  {
   "cell_type": "code",
   "execution_count": 11,
   "id": "a89af3e4",
   "metadata": {},
   "outputs": [],
   "source": [
    "# df.PRCP.plot(kind=\"hist\", bins=20, title=\"PRCP Distribution\");"
   ]
  },
  {
   "cell_type": "code",
   "execution_count": 12,
   "id": "4a131787",
   "metadata": {},
   "outputs": [],
   "source": [
    "# # var = 0.05713065433662097\n",
    "# medianPRCP = df['PRCP'].median()\n",
    "# df['PRCP'].fillna(medianPRCP, inplace=True)"
   ]
  },
  {
   "cell_type": "code",
   "execution_count": 13,
   "id": "1447fe90",
   "metadata": {},
   "outputs": [],
   "source": [
    "# variance = df['PRCP'].var()\n",
    "# variance"
   ]
  },
  {
   "cell_type": "code",
   "execution_count": 14,
   "id": "0433f171",
   "metadata": {},
   "outputs": [],
   "source": [
    "# df.PRCP.plot(kind=\"hist\", bins=20, title=\"PRCP Distribution\");"
   ]
  },
  {
   "cell_type": "code",
   "execution_count": 15,
   "id": "52c1d0bf",
   "metadata": {},
   "outputs": [],
   "source": [
    "# # var = 0.05713065433662097\n",
    "# modePRCP = df['PRCP'].mode()[0] \n",
    "# df['PRCP'].fillna(modePRCP, inplace=True)"
   ]
  },
  {
   "cell_type": "code",
   "execution_count": 16,
   "id": "0e934348",
   "metadata": {},
   "outputs": [],
   "source": [
    "# variance = df['PRCP'].var()\n",
    "# variance"
   ]
  },
  {
   "cell_type": "code",
   "execution_count": 17,
   "id": "4f2ee94f",
   "metadata": {},
   "outputs": [],
   "source": [
    "# df.PRCP.plot(kind=\"hist\", bins=20, title=\"PRCP Distribution\");"
   ]
  },
  {
   "cell_type": "code",
   "execution_count": 18,
   "id": "2ea4b33a",
   "metadata": {},
   "outputs": [],
   "source": [
    "# #Vare = 0.05713065433662097\n",
    "# df['PRCP'].fillna(method='bfill', inplace=True)"
   ]
  },
  {
   "cell_type": "code",
   "execution_count": 19,
   "id": "ffabf353",
   "metadata": {},
   "outputs": [],
   "source": [
    "# variance = df['PRCP'].var()\n",
    "# variance"
   ]
  },
  {
   "cell_type": "code",
   "execution_count": 20,
   "id": "395923d2",
   "metadata": {},
   "outputs": [],
   "source": [
    "# df.PRCP.plot(kind=\"hist\", bins=20, title=\"PRCP Distribution\");"
   ]
  },
  {
   "cell_type": "code",
   "execution_count": 21,
   "id": "6a8633f4",
   "metadata": {},
   "outputs": [],
   "source": [
    "df['PRCP'].fillna(method='ffill', inplace=True)"
   ]
  },
  {
   "cell_type": "code",
   "execution_count": 22,
   "id": "05c06dce",
   "metadata": {},
   "outputs": [
    {
     "data": {
      "text/plain": [
       "0.05713065433662097"
      ]
     },
     "execution_count": 22,
     "metadata": {},
     "output_type": "execute_result"
    }
   ],
   "source": [
    "# Calculate variance for PRCP column after fill\n",
    "#variance = 0.05713065433662097\n",
    "variance = df['PRCP'].var()\n",
    "variance"
   ]
  },
  {
   "cell_type": "code",
   "execution_count": 23,
   "id": "acc21717",
   "metadata": {},
   "outputs": [
    {
     "data": {
      "image/png": "[encoded data removed]",
      "text/plain": [
       "<Figure size 640x480 with 1 Axes>"
      ]
     },
     "metadata": {},
     "output_type": "display_data"
    }
   ],
   "source": [
    "df.PRCP.plot(kind=\"hist\", bins=20, title=\"PRCP Distribution\");\n",
    "# ffill methode give us the same distribution after fill"
   ]
  },
  {
   "cell_type": "markdown",
   "id": "dcee165b",
   "metadata": {},
   "source": [
    "# Handling with missing values in RAIN column"
   ]
  },
  {
   "cell_type": "code",
   "execution_count": 24,
   "id": "906770ee",
   "metadata": {},
   "outputs": [
    {
     "data": {
      "text/plain": [
       "0.24462904154362605"
      ]
     },
     "execution_count": 24,
     "metadata": {},
     "output_type": "execute_result"
    }
   ],
   "source": [
    "# Calculate variance for RAIN column\n",
    "variance = df['RAIN'].var()\n",
    "variance"
   ]
  },
  {
   "cell_type": "code",
   "execution_count": 25,
   "id": "1b41f104",
   "metadata": {},
   "outputs": [],
   "source": [
    "# fill missing data in rain column with this function\n",
    "def rain(row):\n",
    "    PRCP = row['PRCP']\n",
    "    if PRCP == (0.00):\n",
    "        return False\n",
    "    else:\n",
    "        return True\n",
    "df['RAIN'].fillna(df.apply(rain, axis=1), inplace=True)"
   ]
  },
  {
   "cell_type": "code",
   "execution_count": 26,
   "id": "e40aeb89",
   "metadata": {},
   "outputs": [
    {
     "data": {
      "text/plain": [
       "0.24462168866671707"
      ]
     },
     "execution_count": 26,
     "metadata": {},
     "output_type": "execute_result"
    }
   ],
   "source": [
    "# Calculate variance for RAIN column after fill\n",
    "variance = df['RAIN'].var()\n",
    "variance"
   ]
  },
  {
   "cell_type": "code",
   "execution_count": 27,
   "id": "77e0ec9e",
   "metadata": {},
   "outputs": [
    {
     "name": "stdout",
     "output_type": "stream",
     "text": [
      "             DATE  PRCP  TMAX  TMIN   RAIN\n",
      "18415  1998-06-02   0.0    72    52  False\n"
     ]
    }
   ],
   "source": [
    "#print rows that contain missing value after fill\n",
    "print(df.loc[[18415]])"
   ]
  },
  {
   "cell_type": "code",
   "execution_count": 28,
   "id": "26c831bd",
   "metadata": {},
   "outputs": [
    {
     "name": "stdout",
     "output_type": "stream",
     "text": [
      "             DATE  PRCP  TMAX  TMIN   RAIN\n",
      "18416  1998-06-03   0.0    66    51  False\n"
     ]
    }
   ],
   "source": [
    "print(df.loc[[18416]])"
   ]
  },
  {
   "cell_type": "code",
   "execution_count": 29,
   "id": "04cf45c8",
   "metadata": {},
   "outputs": [
    {
     "name": "stdout",
     "output_type": "stream",
     "text": [
      "             DATE  PRCP  TMAX  TMIN   RAIN\n",
      "21067  2005-09-05   0.0    70    52  False\n"
     ]
    }
   ],
   "source": [
    "print(df.loc[[21067]])"
   ]
  },
  {
   "cell_type": "markdown",
   "id": "monthly-meter",
   "metadata": {},
   "source": [
    "### Repeat the following steps for each column within outliers\n",
    "\n",
    "* Visualize the outliers\n",
    "* Detect if your data set contains any outliers\n",
    "* Identify lower & higher limit of outliers\n",
    "* Drop all outliers\n",
    "* Visualize the column after processing\n"
   ]
  },
  {
   "cell_type": "code",
   "execution_count": 30,
   "id": "56e92e95",
   "metadata": {},
   "outputs": [
    {
     "data": {
      "text/plain": [
       "<Axes: >"
      ]
     },
     "execution_count": 30,
     "metadata": {},
     "output_type": "execute_result"
    },
    {
     "data": {
      "image/png": "[encoded data removed]",
      "text/plain": [
       "<Figure size 640x480 with 1 Axes>"
      ]
     },
     "metadata": {},
     "output_type": "display_data"
    }
   ],
   "source": [
    "# boxplot for all datafream\n",
    "sns.boxplot(data=df)"
   ]
  },
  {
   "cell_type": "markdown",
   "id": "442f01d6",
   "metadata": {},
   "source": [
    "## PRCP column contains outliers"
   ]
  },
  {
   "cell_type": "code",
   "execution_count": 31,
   "id": "24da40ad",
   "metadata": {},
   "outputs": [
    {
     "data": {
      "text/plain": [
       "<Axes: >"
      ]
     },
     "execution_count": 31,
     "metadata": {},
     "output_type": "execute_result"
    },
    {
     "data": {
      "image/png": "[encoded data removed]",
      "text/plain": [
       "<Figure size 1500x600 with 1 Axes>"
      ]
     },
     "metadata": {},
     "output_type": "display_data"
    }
   ],
   "source": [
    "# boxplot for PRCP column befor drop the outliers\n",
    "df.boxplot(column=['PRCP'], figsize=(15, 6))"
   ]
  },
  {
   "cell_type": "code",
   "execution_count": 32,
   "id": "2e58bcdc",
   "metadata": {},
   "outputs": [
    {
     "name": "stdout",
     "output_type": "stream",
     "text": [
      "Lower bound outliers  -0.15000000000000002\n",
      "Higher bound outliers 0.25\n"
     ]
    },
    {
     "data": {
      "image/png": "[encoded data removed]",
      "text/plain": [
       "<Figure size 1500x600 with 1 Axes>"
      ]
     },
     "metadata": {},
     "output_type": "display_data"
    }
   ],
   "source": [
    "# drop the outliers\n",
    "q1 = df['PRCP'].quantile(0.25)\n",
    "q3 = df['PRCP'].quantile(0.75)\n",
    "iqr = q3 - q1\n",
    "lower_bound = q1 - 1.5*iqr\n",
    "upper_bound = q3 + 1.5*iqr\n",
    "print('Lower bound outliers ', lower_bound)\n",
    "print('Higher bound outliers', upper_bound)\n",
    "#Exluding outer layers \n",
    "df = df.drop(df[(df['PRCP'] < lower_bound) | (df['PRCP'] > upper_bound)].index)\n",
    "df.boxplot(column=['PRCP'], figsize=(15, 6))\n",
    "plt.show();"
   ]
  },
  {
   "cell_type": "markdown",
   "id": "f1b8666d",
   "metadata": {},
   "source": [
    "## TMAX column contains outliers"
   ]
  },
  {
   "cell_type": "code",
   "execution_count": 33,
   "id": "eb1d4bbb",
   "metadata": {},
   "outputs": [
    {
     "data": {
      "text/plain": [
       "<Axes: >"
      ]
     },
     "execution_count": 33,
     "metadata": {},
     "output_type": "execute_result"
    },
    {
     "data": {
      "image/png": "[encoded data removed]",
      "text/plain": [
       "<Figure size 1500x600 with 1 Axes>"
      ]
     },
     "metadata": {},
     "output_type": "display_data"
    }
   ],
   "source": [
    "# boxplot for TMAX column befor drop the outliers\n",
    "df.boxplot(column=['TMAX'], figsize=(15, 6))"
   ]
  },
  {
   "cell_type": "code",
   "execution_count": 34,
   "id": "2aac8460",
   "metadata": {},
   "outputs": [
    {
     "name": "stdout",
     "output_type": "stream",
     "text": [
      "Lower bound outliers  20.0\n",
      "Higher bound outliers 100.0\n"
     ]
    },
    {
     "data": {
      "image/png": "[encoded data removed]",
      "text/plain": [
       "<Figure size 1500x600 with 1 Axes>"
      ]
     },
     "metadata": {},
     "output_type": "display_data"
    }
   ],
   "source": [
    "# drop the outliers\n",
    "q1 = df['TMAX'].quantile(0.25)\n",
    "q3 = df['TMAX'].quantile(0.75)\n",
    "iqr = q3 - q1\n",
    "lower_bound = q1 - 1.5*iqr\n",
    "upper_bound = q3 + 1.5*iqr\n",
    "print('Lower bound outliers ', lower_bound)\n",
    "print('Higher bound outliers', upper_bound)\n",
    "#Exluding outer layers \n",
    "df = df.drop(df[(df['TMAX'] < lower_bound) | (df['TMAX'] > upper_bound)].index)\n",
    "df.boxplot(column=['TMAX'], figsize=(15, 6))\n",
    "plt.show();"
   ]
  },
  {
   "cell_type": "markdown",
   "id": "5c006f1e",
   "metadata": {},
   "source": [
    "## TMIN column contains outliers"
   ]
  },
  {
   "cell_type": "code",
   "execution_count": 35,
   "id": "b0967365",
   "metadata": {},
   "outputs": [
    {
     "data": {
      "text/plain": [
       "<Axes: >"
      ]
     },
     "execution_count": 35,
     "metadata": {},
     "output_type": "execute_result"
    },
    {
     "data": {
      "image/png": "[encoded data removed]",
      "text/plain": [
       "<Figure size 1500x600 with 1 Axes>"
      ]
     },
     "metadata": {},
     "output_type": "display_data"
    }
   ],
   "source": [
    "df.boxplot(column=['TMIN'], figsize=(15, 6))"
   ]
  },
  {
   "cell_type": "code",
   "execution_count": 36,
   "id": "b7fc1ab5",
   "metadata": {},
   "outputs": [
    {
     "name": "stdout",
     "output_type": "stream",
     "text": [
      "Lower bound outliers  17.0\n",
      "Higher bound outliers 73.0\n"
     ]
    },
    {
     "data": {
      "image/png": "[encoded data removed]",
      "text/plain": [
       "<Figure size 1500x600 with 1 Axes>"
      ]
     },
     "metadata": {},
     "output_type": "display_data"
    }
   ],
   "source": [
    "# drop the outliers\n",
    "q1 = df['TMIN'].quantile(0.25)\n",
    "q3 = df['TMIN'].quantile(0.75)\n",
    "iqr = q3 - q1\n",
    "lower_bound = q1 - 1.5*iqr\n",
    "upper_bound = q3 + 1.5*iqr\n",
    "print('Lower bound outliers ', lower_bound)\n",
    "print('Higher bound outliers', upper_bound)\n",
    "#Exluding outer layers \n",
    "df = df.drop(df[(df['TMIN'] < lower_bound) | (df['TMIN'] > upper_bound)].index)\n",
    "df.boxplot(column=['TMIN'], figsize=(15, 6))\n",
    "plt.show();"
   ]
  },
  {
   "cell_type": "markdown",
   "id": "44c54904",
   "metadata": {},
   "source": [
    "## RAIN column doesn't contain outliers"
   ]
  },
  {
   "cell_type": "code",
   "execution_count": 37,
   "id": "13f3202c",
   "metadata": {
    "scrolled": false
   },
   "outputs": [
    {
     "data": {
      "text/plain": [
       "<Axes: >"
      ]
     },
     "execution_count": 37,
     "metadata": {},
     "output_type": "execute_result"
    },
    {
     "data": {
      "image/png": "[encoded data removed]",
      "text/plain": [
       "<Figure size 1500x600 with 1 Axes>"
      ]
     },
     "metadata": {},
     "output_type": "display_data"
    }
   ],
   "source": [
    "df.boxplot(column=['RAIN'], figsize=(15, 6))"
   ]
  }
 ],
 "metadata": {
  "kernelspec": {
   "display_name": "Python 3 (ipykernel)",
   "language": "python",
   "name": "python3"
  },
  "language_info": {
   "codemirror_mode": {
    "name": "ipython",
    "version": 3
   },
   "file_extension": ".py",
   "mimetype": "text/x-python",
   "name": "python",
   "nbconvert_exporter": "python",
   "pygments_lexer": "ipython3",
   "version": "3.10.9"
  }
 },
 "nbformat": 4,
 "nbformat_minor": 5
}
